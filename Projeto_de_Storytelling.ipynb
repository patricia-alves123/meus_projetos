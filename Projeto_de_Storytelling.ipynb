{
  "nbformat": 4,
  "nbformat_minor": 0,
  "metadata": {
    "colab": {
      "provenance": []
    },
    "kernelspec": {
      "name": "python3",
      "display_name": "Python 3"
    },
    "language_info": {
      "name": "python"
    }
  },
  "cells": [
    {
      "cell_type": "markdown",
      "source": [
        "\n",
        "##Storytelling Recife aos olhos dos Dados\n",
        "Patrícia Cavalcanti Alves\n",
        "\n",
        "Graduada em Bacharelado em Administração: Unit - Centro Universitário Tiradentes\n",
        "\n",
        "Pós Graduando em Ciência de Dados e IA: Faculdade Senac\n",
        "\n",
        "**🔗 Acesse o projeto completo**\n",
        "\n",
        "**📘 Notebook no Google Colab**\n",
        "  https://colab.research.google.com/drive/1UthVIKjOzyfGvDXh6evogo80QdfyldsA\n",
        "\n",
        "**🎨 Apresentação interativa no Gamma**\n",
        " https://gamma.app/docs/sl1bichxnyk73f4\n",
        "\n",
        "\n"
      ],
      "metadata": {
        "id": "qvePGfJMYGGd"
      }
    },
    {
      "cell_type": "markdown",
      "source": [
        "📊 Storytelling: Recife sob a Lente dos Dados\n",
        "\n",
        "\"Recife, cidade lendária, exibe uma beleza de soberbo estendal, e sua história, marcada por um brado de glória, enche o Brasil de um amor sem igual.\"\n",
        "\n",
        "Mesmo embalados sob seus encantos, de repente somos surpreendidos por dados que nos permitem apreciar a cidade além da superfície. Sob a análise de números e estatísticas, é possível identificar padrões, tendências e desigualdades ocultas. Este projeto — Recife sob a Lente dos Dados — busca compreender o que ocorre nos bastidores desse cenário tão rico e desafiador.\n",
        "\n",
        "🎯 Objetivo\n",
        "\n",
        "O propósito desta análise é explorar as demandas da população recifense registradas nos serviços públicos, revelando necessidades sociais e desafios enfrentados pela gestão urbana.\n",
        "\n",
        "📂 Fonte dos Dados\n",
        "\n",
        "Dados obtidos no Portal de Dados Abertos da Prefeitura do Recife.\n",
        "\n",
        "Foco nas solicitações direcionadas à EMLURB (Empresa de Manutenção e Limpeza Urbana).\n",
        "\n",
        "🔍 O que será analisado\n",
        "\n",
        "Serviços mais solicitados: Identificação das principais demandas dos cidadãos.\n",
        "\n",
        "Bairros mais demandantes: Mapeamento da concentração de solicitações.\n",
        "\n",
        "Tempo de espera: Avaliação da desigualdade nos prazos de atendimento.\n",
        "\n",
        "📈 Principais Insights\n",
        "\n",
        "Alta demanda por iluminação pública, limpeza urbana, drenagem, arborização e pavimentação.\n",
        "\n",
        "Concentração de solicitações em bairros como Boa Viagem, Cohab, Imbiribeira, Santo Amaro e Várzea.\n",
        "\n",
        "Desigualdade significativa nos tempos de resposta: serviços resolvidos em poucos dias contrastam com demandas que podem levar até 18 meses.\n",
        "\n",
        "📝 Conclusão\n",
        "\n",
        "Os dados revelam a urgência em otimizar processos internos da gestão pública, reduzir desigualdades entre bairros e melhorar a capacidade de atendimento. A análise demonstra que o uso estratégico de dados pode apoiar a tomada de decisões mais eficazes, aproximando a gestão da realidade vivida pela população."
      ],
      "metadata": {
        "id": "XMHFLvGOZwap"
      }
    }
  ]
}